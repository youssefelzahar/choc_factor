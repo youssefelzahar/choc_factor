{
 "cells": [
  {
   "cell_type": "code",
   "execution_count": 1,
   "id": "874e3aa0",
   "metadata": {},
   "outputs": [],
   "source": [
    "import pandas as pd\n",
    "import numpy as np\n",
    "import matplotlib.pyplot as plt\n",
    "import seaborn as sns\n",
    "from sklearn.compose import ColumnTransformer\n",
    "from sklearn.cluster import AgglomerativeClustering\n",
    "from scipy.cluster.hierarchy import dendrogram, linkage"
   ]
  },
  {
   "cell_type": "code",
   "execution_count": 2,
   "id": "6a331a4f",
   "metadata": {},
   "outputs": [
    {
     "data": {
      "text/html": [
       "<div>\n",
       "<style scoped>\n",
       "    .dataframe tbody tr th:only-of-type {\n",
       "        vertical-align: middle;\n",
       "    }\n",
       "\n",
       "    .dataframe tbody tr th {\n",
       "        vertical-align: top;\n",
       "    }\n",
       "\n",
       "    .dataframe thead th {\n",
       "        text-align: right;\n",
       "    }\n",
       "</style>\n",
       "<table border=\"1\" class=\"dataframe\">\n",
       "  <thead>\n",
       "    <tr style=\"text-align: right;\">\n",
       "      <th></th>\n",
       "      <th>ID</th>\n",
       "      <th>Sex</th>\n",
       "      <th>Marital status</th>\n",
       "      <th>Age</th>\n",
       "      <th>Education</th>\n",
       "      <th>Income</th>\n",
       "      <th>Occupation</th>\n",
       "      <th>Settlement size</th>\n",
       "    </tr>\n",
       "  </thead>\n",
       "  <tbody>\n",
       "    <tr>\n",
       "      <th>0</th>\n",
       "      <td>100000001</td>\n",
       "      <td>0</td>\n",
       "      <td>0</td>\n",
       "      <td>67</td>\n",
       "      <td>2</td>\n",
       "      <td>124670</td>\n",
       "      <td>1</td>\n",
       "      <td>2</td>\n",
       "    </tr>\n",
       "    <tr>\n",
       "      <th>1</th>\n",
       "      <td>100000002</td>\n",
       "      <td>1</td>\n",
       "      <td>1</td>\n",
       "      <td>22</td>\n",
       "      <td>1</td>\n",
       "      <td>150773</td>\n",
       "      <td>1</td>\n",
       "      <td>2</td>\n",
       "    </tr>\n",
       "    <tr>\n",
       "      <th>2</th>\n",
       "      <td>100000003</td>\n",
       "      <td>0</td>\n",
       "      <td>0</td>\n",
       "      <td>49</td>\n",
       "      <td>1</td>\n",
       "      <td>89210</td>\n",
       "      <td>0</td>\n",
       "      <td>0</td>\n",
       "    </tr>\n",
       "    <tr>\n",
       "      <th>3</th>\n",
       "      <td>100000004</td>\n",
       "      <td>0</td>\n",
       "      <td>0</td>\n",
       "      <td>45</td>\n",
       "      <td>1</td>\n",
       "      <td>171565</td>\n",
       "      <td>1</td>\n",
       "      <td>1</td>\n",
       "    </tr>\n",
       "    <tr>\n",
       "      <th>4</th>\n",
       "      <td>100000005</td>\n",
       "      <td>0</td>\n",
       "      <td>0</td>\n",
       "      <td>53</td>\n",
       "      <td>1</td>\n",
       "      <td>149031</td>\n",
       "      <td>1</td>\n",
       "      <td>1</td>\n",
       "    </tr>\n",
       "  </tbody>\n",
       "</table>\n",
       "</div>"
      ],
      "text/plain": [
       "          ID  Sex  Marital status  Age  Education  Income  Occupation  \\\n",
       "0  100000001    0               0   67          2  124670           1   \n",
       "1  100000002    1               1   22          1  150773           1   \n",
       "2  100000003    0               0   49          1   89210           0   \n",
       "3  100000004    0               0   45          1  171565           1   \n",
       "4  100000005    0               0   53          1  149031           1   \n",
       "\n",
       "   Settlement size  \n",
       "0                2  \n",
       "1                2  \n",
       "2                0  \n",
       "3                1  \n",
       "4                1  "
      ]
     },
     "execution_count": 2,
     "metadata": {},
     "output_type": "execute_result"
    }
   ],
   "source": [
    "seg_data=pd.read_csv(\"segmentation data.csv\")\n",
    "seg_data.head()"
   ]
  },
  {
   "cell_type": "code",
   "execution_count": 3,
   "id": "982b4f03",
   "metadata": {},
   "outputs": [
    {
     "data": {
      "text/plain": [
       "Age\n",
       "26    116\n",
       "27    111\n",
       "25     88\n",
       "24     83\n",
       "28     80\n",
       "35     79\n",
       "23     77\n",
       "31     76\n",
       "36     73\n",
       "30     70\n",
       "29     70\n",
       "32     67\n",
       "33     66\n",
       "34     60\n",
       "40     58\n",
       "37     56\n",
       "38     51\n",
       "22     49\n",
       "42     48\n",
       "39     40\n",
       "46     35\n",
       "21     34\n",
       "43     33\n",
       "41     33\n",
       "45     31\n",
       "44     30\n",
       "49     29\n",
       "48     29\n",
       "47     26\n",
       "20     23\n",
       "50     23\n",
       "57     20\n",
       "51     19\n",
       "52     19\n",
       "54     17\n",
       "53     16\n",
       "63     15\n",
       "64     14\n",
       "61     13\n",
       "60     13\n",
       "65     12\n",
       "58     12\n",
       "67     10\n",
       "56     10\n",
       "55     10\n",
       "66      9\n",
       "62      8\n",
       "68      7\n",
       "19      5\n",
       "59      5\n",
       "71      5\n",
       "74      4\n",
       "73      3\n",
       "70      3\n",
       "18      3\n",
       "75      2\n",
       "76      1\n",
       "72      1\n",
       "Name: count, dtype: int64"
      ]
     },
     "execution_count": 3,
     "metadata": {},
     "output_type": "execute_result"
    }
   ],
   "source": [
    "seg_data[\"Age\"].value_counts()"
   ]
  },
  {
   "cell_type": "code",
   "execution_count": 4,
   "id": "cc323981",
   "metadata": {},
   "outputs": [],
   "source": [
    "purchase_data=pd.read_csv(\"purchase data.csv\")\n",
    "\n",
    "\n"
   ]
  },
  {
   "cell_type": "code",
   "execution_count": 5,
   "id": "5d92d166",
   "metadata": {},
   "outputs": [
    {
     "data": {
      "text/plain": [
       "Age\n",
       "27    2859\n",
       "35    2859\n",
       "31    2759\n",
       "32    2487\n",
       "25    2436\n",
       "26    2403\n",
       "40    2265\n",
       "37    2155\n",
       "36    2011\n",
       "33    1931\n",
       "24    1852\n",
       "34    1811\n",
       "38    1575\n",
       "43    1523\n",
       "30    1513\n",
       "28    1402\n",
       "39    1392\n",
       "45    1339\n",
       "23    1251\n",
       "46    1180\n",
       "49    1091\n",
       "29    1045\n",
       "47    1036\n",
       "51    1032\n",
       "41    1002\n",
       "52     986\n",
       "48     967\n",
       "44     962\n",
       "42     958\n",
       "57     918\n",
       "65     714\n",
       "61     683\n",
       "53     671\n",
       "63     652\n",
       "60     585\n",
       "50     558\n",
       "55     556\n",
       "64     546\n",
       "58     472\n",
       "54     468\n",
       "21     467\n",
       "67     457\n",
       "56     414\n",
       "59     402\n",
       "66     357\n",
       "22     319\n",
       "68     269\n",
       "18     235\n",
       "20     196\n",
       "73     121\n",
       "19     106\n",
       "71     101\n",
       "74      94\n",
       "70      92\n",
       "62      86\n",
       "75      72\n",
       "Name: count, dtype: int64"
      ]
     },
     "execution_count": 5,
     "metadata": {},
     "output_type": "execute_result"
    }
   ],
   "source": [
    "purchase_data[\"Age\"].value_counts()"
   ]
  },
  {
   "cell_type": "code",
   "execution_count": 6,
   "id": "967cdfdb",
   "metadata": {},
   "outputs": [
    {
     "data": {
      "text/plain": [
       "Occupation\n",
       "1    1113\n",
       "0     633\n",
       "2     254\n",
       "Name: count, dtype: int64"
      ]
     },
     "execution_count": 6,
     "metadata": {},
     "output_type": "execute_result"
    }
   ],
   "source": [
    "seg_data[\"Occupation\"].value_counts()"
   ]
  },
  {
   "cell_type": "code",
   "execution_count": 7,
   "id": "077bf4ad",
   "metadata": {},
   "outputs": [
    {
     "name": "stdout",
     "output_type": "stream",
     "text": [
      "Column: ID\n",
      "Outliers: 0\n",
      "Column: Sex\n",
      "Outliers: 0\n",
      "Column: Marital status\n",
      "Outliers: 0\n",
      "Column: Age\n",
      "Outliers: 57\n",
      "Column: Education\n",
      "Outliers: 614\n",
      "Column: Income\n",
      "Outliers: 83\n",
      "Column: Occupation\n",
      "Outliers: 0\n",
      "Column: Settlement size\n",
      "Outliers: 0\n"
     ]
    },
    {
     "data": {
      "text/html": [
       "<div>\n",
       "<style scoped>\n",
       "    .dataframe tbody tr th:only-of-type {\n",
       "        vertical-align: middle;\n",
       "    }\n",
       "\n",
       "    .dataframe tbody tr th {\n",
       "        vertical-align: top;\n",
       "    }\n",
       "\n",
       "    .dataframe thead th {\n",
       "        text-align: right;\n",
       "    }\n",
       "</style>\n",
       "<table border=\"1\" class=\"dataframe\">\n",
       "  <thead>\n",
       "    <tr style=\"text-align: right;\">\n",
       "      <th></th>\n",
       "      <th>ID</th>\n",
       "      <th>Sex</th>\n",
       "      <th>Marital status</th>\n",
       "      <th>Age</th>\n",
       "      <th>Education</th>\n",
       "      <th>Income</th>\n",
       "      <th>Occupation</th>\n",
       "      <th>Settlement size</th>\n",
       "    </tr>\n",
       "  </thead>\n",
       "  <tbody>\n",
       "    <tr>\n",
       "      <th>0</th>\n",
       "      <td>100000001</td>\n",
       "      <td>0</td>\n",
       "      <td>0</td>\n",
       "      <td>67</td>\n",
       "      <td>2</td>\n",
       "      <td>124670</td>\n",
       "      <td>1</td>\n",
       "      <td>2</td>\n",
       "    </tr>\n",
       "    <tr>\n",
       "      <th>1</th>\n",
       "      <td>100000002</td>\n",
       "      <td>1</td>\n",
       "      <td>1</td>\n",
       "      <td>22</td>\n",
       "      <td>1</td>\n",
       "      <td>150773</td>\n",
       "      <td>1</td>\n",
       "      <td>2</td>\n",
       "    </tr>\n",
       "    <tr>\n",
       "      <th>2</th>\n",
       "      <td>100000003</td>\n",
       "      <td>0</td>\n",
       "      <td>0</td>\n",
       "      <td>49</td>\n",
       "      <td>1</td>\n",
       "      <td>89210</td>\n",
       "      <td>0</td>\n",
       "      <td>0</td>\n",
       "    </tr>\n",
       "    <tr>\n",
       "      <th>3</th>\n",
       "      <td>100000004</td>\n",
       "      <td>0</td>\n",
       "      <td>0</td>\n",
       "      <td>45</td>\n",
       "      <td>1</td>\n",
       "      <td>171565</td>\n",
       "      <td>1</td>\n",
       "      <td>1</td>\n",
       "    </tr>\n",
       "    <tr>\n",
       "      <th>4</th>\n",
       "      <td>100000005</td>\n",
       "      <td>0</td>\n",
       "      <td>0</td>\n",
       "      <td>53</td>\n",
       "      <td>1</td>\n",
       "      <td>149031</td>\n",
       "      <td>1</td>\n",
       "      <td>1</td>\n",
       "    </tr>\n",
       "    <tr>\n",
       "      <th>...</th>\n",
       "      <td>...</td>\n",
       "      <td>...</td>\n",
       "      <td>...</td>\n",
       "      <td>...</td>\n",
       "      <td>...</td>\n",
       "      <td>...</td>\n",
       "      <td>...</td>\n",
       "      <td>...</td>\n",
       "    </tr>\n",
       "    <tr>\n",
       "      <th>1995</th>\n",
       "      <td>100001996</td>\n",
       "      <td>1</td>\n",
       "      <td>0</td>\n",
       "      <td>47</td>\n",
       "      <td>1</td>\n",
       "      <td>123525</td>\n",
       "      <td>0</td>\n",
       "      <td>0</td>\n",
       "    </tr>\n",
       "    <tr>\n",
       "      <th>1996</th>\n",
       "      <td>100001997</td>\n",
       "      <td>1</td>\n",
       "      <td>1</td>\n",
       "      <td>27</td>\n",
       "      <td>1</td>\n",
       "      <td>117744</td>\n",
       "      <td>1</td>\n",
       "      <td>0</td>\n",
       "    </tr>\n",
       "    <tr>\n",
       "      <th>1997</th>\n",
       "      <td>100001998</td>\n",
       "      <td>0</td>\n",
       "      <td>0</td>\n",
       "      <td>31</td>\n",
       "      <td>0</td>\n",
       "      <td>86400</td>\n",
       "      <td>0</td>\n",
       "      <td>0</td>\n",
       "    </tr>\n",
       "    <tr>\n",
       "      <th>1998</th>\n",
       "      <td>100001999</td>\n",
       "      <td>1</td>\n",
       "      <td>1</td>\n",
       "      <td>24</td>\n",
       "      <td>1</td>\n",
       "      <td>97968</td>\n",
       "      <td>0</td>\n",
       "      <td>0</td>\n",
       "    </tr>\n",
       "    <tr>\n",
       "      <th>1999</th>\n",
       "      <td>100002000</td>\n",
       "      <td>0</td>\n",
       "      <td>0</td>\n",
       "      <td>25</td>\n",
       "      <td>0</td>\n",
       "      <td>68416</td>\n",
       "      <td>0</td>\n",
       "      <td>0</td>\n",
       "    </tr>\n",
       "  </tbody>\n",
       "</table>\n",
       "<p>2000 rows × 8 columns</p>\n",
       "</div>"
      ],
      "text/plain": [
       "             ID  Sex  Marital status  Age  Education  Income  Occupation  \\\n",
       "0     100000001    0               0   67          2  124670           1   \n",
       "1     100000002    1               1   22          1  150773           1   \n",
       "2     100000003    0               0   49          1   89210           0   \n",
       "3     100000004    0               0   45          1  171565           1   \n",
       "4     100000005    0               0   53          1  149031           1   \n",
       "...         ...  ...             ...  ...        ...     ...         ...   \n",
       "1995  100001996    1               0   47          1  123525           0   \n",
       "1996  100001997    1               1   27          1  117744           1   \n",
       "1997  100001998    0               0   31          0   86400           0   \n",
       "1998  100001999    1               1   24          1   97968           0   \n",
       "1999  100002000    0               0   25          0   68416           0   \n",
       "\n",
       "      Settlement size  \n",
       "0                   2  \n",
       "1                   2  \n",
       "2                   0  \n",
       "3                   1  \n",
       "4                   1  \n",
       "...               ...  \n",
       "1995                0  \n",
       "1996                0  \n",
       "1997                0  \n",
       "1998                0  \n",
       "1999                0  \n",
       "\n",
       "[2000 rows x 8 columns]"
      ]
     },
     "execution_count": 7,
     "metadata": {},
     "output_type": "execute_result"
    }
   ],
   "source": [
    "def check_outliers(df):\n",
    "    for col in df.columns:\n",
    "        if df[col].dtype != 'object':\n",
    "            q1 = df[col].quantile(0.25)\n",
    "            q3 = df[col].quantile(0.75)\n",
    "            iqr = q3 - q1\n",
    "            lower_bound = q1 - (1.5 * iqr)\n",
    "            upper_bound = q3 + (1.5 * iqr)\n",
    "            outliers = df[(df[col] < lower_bound) | (df[col] > upper_bound)]\n",
    "            print(f\"Column: {col}\")\n",
    "            print(f\"Outliers: {len(outliers)}\")\n",
    "    return df\n",
    "check_outliers(seg_data) "
   ]
  },
  {
   "cell_type": "code",
   "execution_count": 8,
   "id": "0d2433a2",
   "metadata": {},
   "outputs": [
    {
     "data": {
      "text/plain": [
       "Education\n",
       "1    1386\n",
       "2     291\n",
       "0     287\n",
       "3      36\n",
       "Name: count, dtype: int64"
      ]
     },
     "execution_count": 8,
     "metadata": {},
     "output_type": "execute_result"
    }
   ],
   "source": [
    "seg_data[\"Education\"].value_counts()"
   ]
  },
  {
   "cell_type": "code",
   "execution_count": 9,
   "id": "99614205",
   "metadata": {},
   "outputs": [
    {
     "data": {
      "text/plain": [
       "Age\n",
       "26    116\n",
       "27    111\n",
       "25     88\n",
       "24     83\n",
       "28     80\n",
       "35     79\n",
       "23     77\n",
       "31     76\n",
       "36     73\n",
       "30     70\n",
       "29     70\n",
       "32     67\n",
       "33     66\n",
       "34     60\n",
       "40     58\n",
       "37     56\n",
       "38     51\n",
       "22     49\n",
       "42     48\n",
       "39     40\n",
       "46     35\n",
       "21     34\n",
       "43     33\n",
       "41     33\n",
       "45     31\n",
       "44     30\n",
       "49     29\n",
       "48     29\n",
       "47     26\n",
       "20     23\n",
       "50     23\n",
       "57     20\n",
       "51     19\n",
       "52     19\n",
       "54     17\n",
       "53     16\n",
       "63     15\n",
       "64     14\n",
       "61     13\n",
       "60     13\n",
       "65     12\n",
       "58     12\n",
       "67     10\n",
       "56     10\n",
       "55     10\n",
       "66      9\n",
       "62      8\n",
       "68      7\n",
       "19      5\n",
       "59      5\n",
       "71      5\n",
       "74      4\n",
       "73      3\n",
       "70      3\n",
       "18      3\n",
       "75      2\n",
       "76      1\n",
       "72      1\n",
       "Name: count, dtype: int64"
      ]
     },
     "execution_count": 9,
     "metadata": {},
     "output_type": "execute_result"
    }
   ],
   "source": [
    "seg_data[\"Age\"].value_counts()"
   ]
  },
  {
   "cell_type": "code",
   "execution_count": 10,
   "id": "7a6b185e",
   "metadata": {},
   "outputs": [
    {
     "data": {
      "text/plain": [
       "array([261952, 202575, 227385, 241068, 268340, 244716, 204723, 214204,\n",
       "       208101, 224998, 211229, 214364, 217651, 222294, 236264, 207783,\n",
       "       215150, 244541, 210017, 214620, 202997, 219319, 213333, 209856,\n",
       "       272314, 309364, 281923, 260977, 201699, 220923, 230883, 220050,\n",
       "       219451, 222360, 205383, 221842, 217450, 254449, 208446, 227021,\n",
       "        35832, 201656, 223630, 223018, 255198, 235417, 250050, 235660,\n",
       "       215639, 212020, 231992, 279593, 200298, 199711, 237799, 200621,\n",
       "       308491, 287247, 268906, 207262, 223185, 203738, 280570, 214126,\n",
       "       267872, 218664, 224961, 262634, 287106, 281084, 273063, 308529,\n",
       "       199654, 213768, 214732, 205476, 280566, 211572, 260847, 285647,\n",
       "       281647,  36760])"
      ]
     },
     "execution_count": 10,
     "metadata": {},
     "output_type": "execute_result"
    }
   ],
   "source": [
    "q1 = seg_data['Income'].quantile(0.25)\n",
    "q3 = seg_data['Income'].quantile(0.75)\n",
    "iqr = q3 - q1\n",
    "lower_bound = q1 - 1.5 * iqr\n",
    "upper_bound = q3 + 1.5 * iqr\n",
    "outliers_income = seg_data[(seg_data['Income'] < lower_bound) | (seg_data['Income'] > upper_bound)]\n",
    "outlier_incomes = outliers_income['Income'].unique()\n",
    "outlier_incomes"
   ]
  },
  {
   "cell_type": "code",
   "execution_count": 11,
   "id": "e9d91951",
   "metadata": {},
   "outputs": [
    {
     "data": {
      "image/png": "[encoded data removed]",
      "text/plain": [
       "<Figure size 1000x600 with 1 Axes>"
      ]
     },
     "metadata": {},
     "output_type": "display_data"
    }
   ],
   "source": [
    "\n",
    "\n",
    "plt.figure(figsize=(10, 6))\n",
    "sns.boxplot(x=seg_data['Income'])\n",
    "plt.title('Income Distribution with Outliers')\n",
    "plt.xlabel('Income')\n",
    "plt.show()"
   ]
  },
  {
   "cell_type": "markdown",
   "id": "9066097d",
   "metadata": {},
   "source": [
    "##  Investigating Outliers  \n",
    "\n",
    "We identified potential outliers in three variables:  \n",
    "\n",
    "### 1. Education  \n",
    "- Unusual values detected: **2, 0, 3**  \n",
    "- These values fall outside the expected education categories (normally categorical levels like High School, College, Graduate, etc.).  \n",
    "- **Suggestion**: Validate coding or recode these values into proper categories.  \n",
    "\n",
    "---\n",
    "\n",
    "### 2. Age  \n",
    "- Outlier values detected: **66, 62, 68, 19, 59, 71, 74, 73, 70, 18, 75, 76, 72**  \n",
    "- Most ages are clustered around 18–76.  \n",
    "- Ages **18 and 19** may represent the lower boundary (very young customers).  \n",
    "- Ages **70–76** may represent the higher boundary (older customers, less common in dataset).  \n",
    "- **Suggestion**: Check if these reflect real customers or data entry issues. If valid, they represent special segments (very young and senior customers).  \n",
    "\n",
    "---\n",
    "\n",
    "### 3. Income  \n",
    "- Outliers identified: **200,000 – 300,000**  \n",
    "- This is significantly higher than typical income ranges in consumer datasets.  \n",
    "- **Suggestion**: Verify if these incomes are valid (e.g., high-net-worth individuals) or errors (extra zeros).  \n",
    "\n",
    "---\n",
    "\n",
    "###  Conclusion  \n",
    "- **Education outliers** most of people on 1.  \n",
    "- **Age outliers** reflect boundary populations (youngest and oldest customers).  \n",
    "- **Income outliers** could indicate a distinct high-income customer segment, or possible entry errors.  \n"
   ]
  },
  {
   "cell_type": "code",
   "execution_count": null,
   "id": "c7eb9f43",
   "metadata": {},
   "outputs": [
    {
     "data": {
      "image/png": "[encoded data removed]",
      "text/plain": [
       "<Figure size 1000x600 with 1 Axes>"
      ]
     },
     "metadata": {},
     "output_type": "display_data"
    }
   ],
   "source": [
    "\n",
    "\n",
    "linked = linkage(seg_data, method='ward')\n",
    "\n",
    "plt.figure(figsize=(10, 6))\n",
    "dendrogram(linked,\n",
    "           orientation='top',\n",
    "           distance_sort='descending',\n",
    "           show_leaf_counts=True)\n",
    "\n",
    "plt.axhline(y=1e6, color='red', linestyle='--')\n",
    "plt.title(\"Hierarchical Clustering Dendrogram with Cut Line\")\n",
    "plt.show()\n"
   ]
  },
  {
   "cell_type": "code",
   "execution_count": 13,
   "id": "b38f52a7",
   "metadata": {},
   "outputs": [
    {
     "data": {
      "text/html": [
       "<div>\n",
       "<style scoped>\n",
       "    .dataframe tbody tr th:only-of-type {\n",
       "        vertical-align: middle;\n",
       "    }\n",
       "\n",
       "    .dataframe tbody tr th {\n",
       "        vertical-align: top;\n",
       "    }\n",
       "\n",
       "    .dataframe thead th {\n",
       "        text-align: right;\n",
       "    }\n",
       "</style>\n",
       "<table border=\"1\" class=\"dataframe\">\n",
       "  <thead>\n",
       "    <tr style=\"text-align: right;\">\n",
       "      <th></th>\n",
       "      <th>ID</th>\n",
       "      <th>Sex</th>\n",
       "      <th>Marital status</th>\n",
       "      <th>Age</th>\n",
       "      <th>Education</th>\n",
       "      <th>Income</th>\n",
       "      <th>Occupation</th>\n",
       "      <th>Settlement size</th>\n",
       "      <th>Cluster</th>\n",
       "    </tr>\n",
       "  </thead>\n",
       "  <tbody>\n",
       "    <tr>\n",
       "      <th>0</th>\n",
       "      <td>100000001</td>\n",
       "      <td>0</td>\n",
       "      <td>0</td>\n",
       "      <td>67</td>\n",
       "      <td>2</td>\n",
       "      <td>124670</td>\n",
       "      <td>1</td>\n",
       "      <td>2</td>\n",
       "      <td>1</td>\n",
       "    </tr>\n",
       "    <tr>\n",
       "      <th>1</th>\n",
       "      <td>100000002</td>\n",
       "      <td>1</td>\n",
       "      <td>1</td>\n",
       "      <td>22</td>\n",
       "      <td>1</td>\n",
       "      <td>150773</td>\n",
       "      <td>1</td>\n",
       "      <td>2</td>\n",
       "      <td>1</td>\n",
       "    </tr>\n",
       "    <tr>\n",
       "      <th>2</th>\n",
       "      <td>100000003</td>\n",
       "      <td>0</td>\n",
       "      <td>0</td>\n",
       "      <td>49</td>\n",
       "      <td>1</td>\n",
       "      <td>89210</td>\n",
       "      <td>0</td>\n",
       "      <td>0</td>\n",
       "      <td>0</td>\n",
       "    </tr>\n",
       "    <tr>\n",
       "      <th>3</th>\n",
       "      <td>100000004</td>\n",
       "      <td>0</td>\n",
       "      <td>0</td>\n",
       "      <td>45</td>\n",
       "      <td>1</td>\n",
       "      <td>171565</td>\n",
       "      <td>1</td>\n",
       "      <td>1</td>\n",
       "      <td>1</td>\n",
       "    </tr>\n",
       "    <tr>\n",
       "      <th>4</th>\n",
       "      <td>100000005</td>\n",
       "      <td>0</td>\n",
       "      <td>0</td>\n",
       "      <td>53</td>\n",
       "      <td>1</td>\n",
       "      <td>149031</td>\n",
       "      <td>1</td>\n",
       "      <td>1</td>\n",
       "      <td>1</td>\n",
       "    </tr>\n",
       "    <tr>\n",
       "      <th>...</th>\n",
       "      <td>...</td>\n",
       "      <td>...</td>\n",
       "      <td>...</td>\n",
       "      <td>...</td>\n",
       "      <td>...</td>\n",
       "      <td>...</td>\n",
       "      <td>...</td>\n",
       "      <td>...</td>\n",
       "      <td>...</td>\n",
       "    </tr>\n",
       "    <tr>\n",
       "      <th>1995</th>\n",
       "      <td>100001996</td>\n",
       "      <td>1</td>\n",
       "      <td>0</td>\n",
       "      <td>47</td>\n",
       "      <td>1</td>\n",
       "      <td>123525</td>\n",
       "      <td>0</td>\n",
       "      <td>0</td>\n",
       "      <td>1</td>\n",
       "    </tr>\n",
       "    <tr>\n",
       "      <th>1996</th>\n",
       "      <td>100001997</td>\n",
       "      <td>1</td>\n",
       "      <td>1</td>\n",
       "      <td>27</td>\n",
       "      <td>1</td>\n",
       "      <td>117744</td>\n",
       "      <td>1</td>\n",
       "      <td>0</td>\n",
       "      <td>0</td>\n",
       "    </tr>\n",
       "    <tr>\n",
       "      <th>1997</th>\n",
       "      <td>100001998</td>\n",
       "      <td>0</td>\n",
       "      <td>0</td>\n",
       "      <td>31</td>\n",
       "      <td>0</td>\n",
       "      <td>86400</td>\n",
       "      <td>0</td>\n",
       "      <td>0</td>\n",
       "      <td>0</td>\n",
       "    </tr>\n",
       "    <tr>\n",
       "      <th>1998</th>\n",
       "      <td>100001999</td>\n",
       "      <td>1</td>\n",
       "      <td>1</td>\n",
       "      <td>24</td>\n",
       "      <td>1</td>\n",
       "      <td>97968</td>\n",
       "      <td>0</td>\n",
       "      <td>0</td>\n",
       "      <td>0</td>\n",
       "    </tr>\n",
       "    <tr>\n",
       "      <th>1999</th>\n",
       "      <td>100002000</td>\n",
       "      <td>0</td>\n",
       "      <td>0</td>\n",
       "      <td>25</td>\n",
       "      <td>0</td>\n",
       "      <td>68416</td>\n",
       "      <td>0</td>\n",
       "      <td>0</td>\n",
       "      <td>0</td>\n",
       "    </tr>\n",
       "  </tbody>\n",
       "</table>\n",
       "<p>2000 rows × 9 columns</p>\n",
       "</div>"
      ],
      "text/plain": [
       "             ID  Sex  Marital status  Age  Education  Income  Occupation  \\\n",
       "0     100000001    0               0   67          2  124670           1   \n",
       "1     100000002    1               1   22          1  150773           1   \n",
       "2     100000003    0               0   49          1   89210           0   \n",
       "3     100000004    0               0   45          1  171565           1   \n",
       "4     100000005    0               0   53          1  149031           1   \n",
       "...         ...  ...             ...  ...        ...     ...         ...   \n",
       "1995  100001996    1               0   47          1  123525           0   \n",
       "1996  100001997    1               1   27          1  117744           1   \n",
       "1997  100001998    0               0   31          0   86400           0   \n",
       "1998  100001999    1               1   24          1   97968           0   \n",
       "1999  100002000    0               0   25          0   68416           0   \n",
       "\n",
       "      Settlement size  Cluster  \n",
       "0                   2        1  \n",
       "1                   2        1  \n",
       "2                   0        0  \n",
       "3                   1        1  \n",
       "4                   1        1  \n",
       "...               ...      ...  \n",
       "1995                0        1  \n",
       "1996                0        0  \n",
       "1997                0        0  \n",
       "1998                0        0  \n",
       "1999                0        0  \n",
       "\n",
       "[2000 rows x 9 columns]"
      ]
     },
     "execution_count": 13,
     "metadata": {},
     "output_type": "execute_result"
    }
   ],
   "source": [
    "from sklearn.cluster import AgglomerativeClustering\n",
    "\n",
    "# نعمل AgglomerativeClustering ونحدد عدد الكلاسترز = 3\n",
    "cluster = AgglomerativeClustering(n_clusters=3, metric='euclidean', linkage='ward')\n",
    "seg_data['Cluster'] = cluster.fit_predict(seg_data)\n",
    "\n",
    "seg_data"
   ]
  },
  {
   "cell_type": "code",
   "execution_count": 42,
   "id": "e9a4b7a4",
   "metadata": {},
   "outputs": [],
   "source": [
    "import pickle   \n",
    "with open('segmentation_model.pkl', 'wb') as file:\n",
    "    pickle.dump(cluster, file)"
   ]
  },
  {
   "cell_type": "code",
   "execution_count": 14,
   "id": "8e75a6e9",
   "metadata": {},
   "outputs": [
    {
     "name": "stdout",
     "output_type": "stream",
     "text": [
      "Cluster\n",
      "0    1097\n",
      "1     793\n",
      "2     110\n",
      "Name: count, dtype: int64\n",
      "                   ID       Sex  Marital status        Age  Education  \\\n",
      "Cluster                                                                 \n",
      "0        1.000011e+08  0.543300        0.532361  32.374658   0.922516   \n",
      "1        1.000009e+08  0.360656        0.460277  39.575032   1.155107   \n",
      "2        1.000006e+08  0.290909        0.400000  44.727273   1.345455   \n",
      "\n",
      "                Income  Occupation  Settlement size  \n",
      "Cluster                                              \n",
      "0         95485.586144    0.509572         0.436645  \n",
      "1        141970.047919    1.097100         1.058008  \n",
      "2        223444.563636    1.745455         1.454545  \n",
      "\n",
      "Sex distribution by cluster:\n",
      "Cluster  Sex\n",
      "0        1      0.543300\n",
      "         0      0.456700\n",
      "1        0      0.639344\n",
      "         1      0.360656\n",
      "2        0      0.709091\n",
      "         1      0.290909\n",
      "Name: proportion, dtype: float64\n",
      "\n",
      "Marital status distribution by cluster:\n",
      "Cluster  Marital status\n",
      "0        1                 0.532361\n",
      "         0                 0.467639\n",
      "1        0                 0.539723\n",
      "         1                 0.460277\n",
      "2        0                 0.600000\n",
      "         1                 0.400000\n",
      "Name: proportion, dtype: float64\n",
      "\n",
      "Education distribution by cluster:\n",
      "Cluster  Education\n",
      "0        1            0.758432\n",
      "         0            0.161349\n",
      "         2            0.076572\n",
      "         3            0.003646\n",
      "1        1            0.643127\n",
      "         2            0.203026\n",
      "         0            0.118537\n",
      "         3            0.035309\n",
      "2        2            0.418182\n",
      "         1            0.400000\n",
      "         0            0.145455\n",
      "         3            0.036364\n",
      "Name: proportion, dtype: float64\n",
      "\n",
      "Occupation distribution by cluster:\n",
      "Cluster  Occupation\n",
      "0        0             0.504102\n",
      "         1             0.482224\n",
      "         2             0.013674\n",
      "1        1             0.701135\n",
      "         2             0.197982\n",
      "         0             0.100883\n",
      "2        2             0.745455\n",
      "         1             0.254545\n",
      "Name: proportion, dtype: float64\n",
      "\n",
      "Settlement size distribution by cluster:\n",
      "Cluster  Settlement size\n",
      "0        0                  0.689152\n",
      "         1                  0.185050\n",
      "         2                  0.125798\n",
      "1        1                  0.374527\n",
      "         2                  0.341740\n",
      "         0                  0.283733\n",
      "2        2                  0.527273\n",
      "         1                  0.400000\n",
      "         0                  0.072727\n",
      "Name: proportion, dtype: float64\n"
     ]
    }
   ],
   "source": [
    "# توزيع الكلاسترز\n",
    "print(seg_data['Cluster'].value_counts())\n",
    "\n",
    "# متوسط القيم لكل Cluster\n",
    "cluster_profile = seg_data.groupby('Cluster').mean(numeric_only=True)\n",
    "print(cluster_profile)\n",
    "\n",
    "# categorical variables\n",
    "for col in ['Sex','Marital status','Education','Occupation','Settlement size']:\n",
    "    print(f\"\\n{col} distribution by cluster:\")\n",
    "    print(seg_data.groupby('Cluster')[col].value_counts(normalize=True))\n"
   ]
  },
  {
   "cell_type": "code",
   "execution_count": 15,
   "id": "c98689fd",
   "metadata": {},
   "outputs": [
    {
     "name": "stdout",
     "output_type": "stream",
     "text": [
      "Distribution of Generations by Cluster:\n",
      "\n"
     ]
    },
    {
     "data": {
      "text/html": [
       "<div>\n",
       "<style scoped>\n",
       "    .dataframe tbody tr th:only-of-type {\n",
       "        vertical-align: middle;\n",
       "    }\n",
       "\n",
       "    .dataframe tbody tr th {\n",
       "        vertical-align: top;\n",
       "    }\n",
       "\n",
       "    .dataframe thead th {\n",
       "        text-align: right;\n",
       "    }\n",
       "</style>\n",
       "<table border=\"1\" class=\"dataframe\">\n",
       "  <thead>\n",
       "    <tr style=\"text-align: right;\">\n",
       "      <th>Generation</th>\n",
       "      <th>Boomers</th>\n",
       "      <th>Gen X</th>\n",
       "      <th>Gen Z</th>\n",
       "      <th>Millennials</th>\n",
       "    </tr>\n",
       "    <tr>\n",
       "      <th>Cluster</th>\n",
       "      <th></th>\n",
       "      <th></th>\n",
       "      <th></th>\n",
       "      <th></th>\n",
       "    </tr>\n",
       "  </thead>\n",
       "  <tbody>\n",
       "    <tr>\n",
       "      <th>0</th>\n",
       "      <td>0.016408</td>\n",
       "      <td>0.100273</td>\n",
       "      <td>0.450319</td>\n",
       "      <td>0.432999</td>\n",
       "    </tr>\n",
       "    <tr>\n",
       "      <th>1</th>\n",
       "      <td>0.092055</td>\n",
       "      <td>0.214376</td>\n",
       "      <td>0.201765</td>\n",
       "      <td>0.491803</td>\n",
       "    </tr>\n",
       "    <tr>\n",
       "      <th>2</th>\n",
       "      <td>0.145455</td>\n",
       "      <td>0.309091</td>\n",
       "      <td>0.136364</td>\n",
       "      <td>0.409091</td>\n",
       "    </tr>\n",
       "  </tbody>\n",
       "</table>\n",
       "</div>"
      ],
      "text/plain": [
       "Generation   Boomers     Gen X     Gen Z  Millennials\n",
       "Cluster                                              \n",
       "0           0.016408  0.100273  0.450319     0.432999\n",
       "1           0.092055  0.214376  0.201765     0.491803\n",
       "2           0.145455  0.309091  0.136364     0.409091"
      ]
     },
     "execution_count": 15,
     "metadata": {},
     "output_type": "execute_result"
    }
   ],
   "source": [
    "import pandas as pd\n",
    "\n",
    "# نفترض إن عندك DataFrame اسمه seg_data\n",
    "# فيه الأعمدة: Age, Cluster\n",
    "\n",
    "# دالة لتحديد الجيل حسب العمر\n",
    "def get_generation(age):\n",
    "    if 13 <= age <= 28:\n",
    "        return \"Gen Z\"\n",
    "    elif 29 <= age <= 44:\n",
    "        return \"Millennials\"\n",
    "    elif 45 <= age <= 60:\n",
    "        return \"Gen X\"\n",
    "    elif 61 <= age <= 79:\n",
    "        return \"Boomers\"\n",
    "    else:\n",
    "        return \"Other\"\n",
    "\n",
    "# نضيف عمود الجيل\n",
    "seg_data[\"Generation\"] = seg_data[\"Age\"].apply(get_generation)\n",
    "\n",
    "# توزيع الأجيال في كل Cluster\n",
    "gen_cluster_dist = seg_data.groupby(\"Cluster\")[\"Generation\"].value_counts(normalize=True).unstack().fillna(0)\n",
    "\n",
    "print(\"Distribution of Generations by Cluster:\\n\")\n",
    "gen_cluster_dist\n",
    "\n",
    "# متوسط العمر لكل Cluster للمراجعة\n",
    "#print(\"\\nAverage Age per Cluster:\")\n"
   ]
  },
  {
   "cell_type": "code",
   "execution_count": 16,
   "id": "c4d69e9b",
   "metadata": {},
   "outputs": [
    {
     "name": "stdout",
     "output_type": "stream",
     "text": [
      "           ID  Sex  Marital status  Age  Education  Income  Occupation  \\\n",
      "2   100000003    0               0   49          1   89210           0   \n",
      "10  100000011    1               1   25          1  108469           1   \n",
      "12  100000013    1               1   22          1  108687           1   \n",
      "13  100000014    0               0   60          2   89374           0   \n",
      "14  100000015    1               1   28          1  102899           1   \n",
      "\n",
      "    Settlement size  Cluster Generation  \n",
      "2                 0        0      Gen X  \n",
      "10                0        0      Gen Z  \n",
      "12                2        0      Gen Z  \n",
      "13                0        0      Gen X  \n",
      "14                1        0      Gen Z  \n",
      "          ID  Sex  Marital status  Age  Education  Income  Occupation  \\\n",
      "0  100000001    0               0   67          2  124670           1   \n",
      "1  100000002    1               1   22          1  150773           1   \n",
      "3  100000004    0               0   45          1  171565           1   \n",
      "4  100000005    0               0   53          1  149031           1   \n",
      "5  100000006    0               0   35          1  144848           0   \n",
      "\n",
      "   Settlement size  Cluster   Generation  \n",
      "0                2        1      Boomers  \n",
      "1                2        1        Gen Z  \n",
      "3                1        1        Gen X  \n",
      "4                1        1        Gen X  \n",
      "5                0        1  Millennials  \n",
      "           ID  Sex  Marital status  Age  Education  Income  Occupation  \\\n",
      "7   100000008    0               0   35          1  193621           2   \n",
      "18  100000019    1               1   44          2  261952           2   \n",
      "56  100000057    0               0   52          1  202575           2   \n",
      "63  100000064    0               0   25          0  227385           1   \n",
      "87  100000088    0               0   47          1  241068           1   \n",
      "\n",
      "    Settlement size  Cluster   Generation  \n",
      "7                 1        2  Millennials  \n",
      "18                2        2  Millennials  \n",
      "56                2        2        Gen X  \n",
      "63                2        2        Gen Z  \n",
      "87                1        2        Gen X  \n"
     ]
    }
   ],
   "source": [
    "# بيانات Cluster 0\n",
    "cluster0_data = seg_data[seg_data[\"Cluster\"] == 0]\n",
    "print(cluster0_data.head())   # يعرض أول 5 صفوف\n",
    "\n",
    "# بيانات Cluster 1\n",
    "cluster1_data = seg_data[seg_data[\"Cluster\"] == 1]\n",
    "print(cluster1_data.head())\n",
    "\n",
    "# بيانات Cluster 2\n",
    "cluster2_data = seg_data[seg_data[\"Cluster\"] == 2]\n",
    "print(cluster2_data.head())\n"
   ]
  },
  {
   "cell_type": "code",
   "execution_count": 17,
   "id": "7f37c180",
   "metadata": {},
   "outputs": [
    {
     "data": {
      "text/plain": [
       "Sex\n",
       "1    596\n",
       "0    501\n",
       "Name: count, dtype: int64"
      ]
     },
     "execution_count": 17,
     "metadata": {},
     "output_type": "execute_result"
    }
   ],
   "source": [
    "cluster0_data[\"Sex\"].value_counts()# يعرض أول 5 صفوف\n"
   ]
  },
  {
   "cell_type": "code",
   "execution_count": 18,
   "id": "5333a5d3",
   "metadata": {},
   "outputs": [
    {
     "name": "stdout",
     "output_type": "stream",
     "text": [
      "Age\n",
      "26    8.113036\n",
      "27    7.201459\n",
      "25    6.289881\n",
      "23    5.651778\n",
      "24    5.560620\n",
      "29    4.284412\n",
      "31    4.102097\n",
      "28    4.102097\n",
      "33    4.010939\n",
      "35    3.828624\n",
      "22    3.463993\n",
      "40    3.190520\n",
      "30    2.917046\n",
      "32    2.734731\n",
      "38    2.643573\n",
      "36    2.552416\n",
      "34    2.552416\n",
      "39    2.461258\n",
      "37    2.461258\n",
      "21    2.278943\n",
      "42    1.731996\n",
      "20    1.640839\n",
      "41    1.549681\n",
      "48    1.458523\n",
      "43    1.367366\n",
      "49    1.276208\n",
      "45    1.276208\n",
      "46    1.185050\n",
      "47    1.093892\n",
      "44    0.911577\n",
      "50    0.729262\n",
      "57    0.638104\n",
      "54    0.546946\n",
      "52    0.455789\n",
      "19    0.455789\n",
      "58    0.364631\n",
      "65    0.364631\n",
      "51    0.364631\n",
      "18    0.273473\n",
      "61    0.273473\n",
      "63    0.273473\n",
      "53    0.182315\n",
      "67    0.182315\n",
      "56    0.182315\n",
      "64    0.182315\n",
      "60    0.091158\n",
      "68    0.091158\n",
      "55    0.091158\n",
      "66    0.091158\n",
      "74    0.091158\n",
      "70    0.091158\n",
      "59    0.091158\n",
      "Name: proportion, dtype: float64\n"
     ]
    }
   ],
   "source": [
    "# النسبة المئوية لكل عمر في Cluster 0\n",
    "age_dist_cluster0 = cluster0_data[\"Age\"].value_counts(normalize=True) * 100\n",
    "print(age_dist_cluster0)  # أول 10 أعمار\n"
   ]
  },
  {
   "cell_type": "code",
   "execution_count": 19,
   "id": "a792df7f",
   "metadata": {},
   "outputs": [
    {
     "data": {
      "text/plain": [
       "Occupation\n",
       "0    553\n",
       "1    529\n",
       "2     15\n",
       "Name: count, dtype: int64"
      ]
     },
     "execution_count": 19,
     "metadata": {},
     "output_type": "execute_result"
    }
   ],
   "source": [
    "cluster0_data[\"Occupation\"].value_counts()"
   ]
  },
  {
   "cell_type": "code",
   "execution_count": 20,
   "id": "aabbd104",
   "metadata": {},
   "outputs": [
    {
     "name": "stdout",
     "output_type": "stream",
     "text": [
      "Occupation\n",
      "0    50.410210\n",
      "1    48.222425\n",
      "2     1.367366\n",
      "Name: proportion, dtype: float64\n"
     ]
    }
   ],
   "source": [
    "# النسبة المئوية لكل عمر في Cluster 0\n",
    "age_dist_cluster0 = cluster0_data[\"Occupation\"].value_counts(normalize=True) * 100\n",
    "print(age_dist_cluster0)  \n"
   ]
  },
  {
   "cell_type": "code",
   "execution_count": 21,
   "id": "716760bd",
   "metadata": {},
   "outputs": [
    {
     "data": {
      "text/plain": [
       "Marital status\n",
       "1    584\n",
       "0    513\n",
       "Name: count, dtype: int64"
      ]
     },
     "execution_count": 21,
     "metadata": {},
     "output_type": "execute_result"
    }
   ],
   "source": [
    "cluster0_data[\"Marital status\"].value_counts()"
   ]
  },
  {
   "cell_type": "code",
   "execution_count": 22,
   "id": "54edf3c1",
   "metadata": {},
   "outputs": [
    {
     "name": "stdout",
     "output_type": "stream",
     "text": [
      "Marital status\n",
      "1    53.236098\n",
      "0    46.763902\n",
      "Name: proportion, dtype: float64\n"
     ]
    }
   ],
   "source": [
    "# النسبة المئوية لكل عمر في Cluster 0\n",
    "age_dist_cluster0 = cluster0_data[\"Marital status\"].value_counts(normalize=True) * 100\n",
    "print(age_dist_cluster0)  \n"
   ]
  },
  {
   "cell_type": "code",
   "execution_count": 23,
   "id": "bc5bbad0",
   "metadata": {},
   "outputs": [
    {
     "data": {
      "text/plain": [
       "Education\n",
       "1    832\n",
       "0    177\n",
       "2     84\n",
       "3      4\n",
       "Name: count, dtype: int64"
      ]
     },
     "execution_count": 23,
     "metadata": {},
     "output_type": "execute_result"
    }
   ],
   "source": [
    "cluster0_data[\"Education\"].value_counts()"
   ]
  },
  {
   "cell_type": "code",
   "execution_count": 24,
   "id": "8e8d8585",
   "metadata": {},
   "outputs": [
    {
     "name": "stdout",
     "output_type": "stream",
     "text": [
      "Education\n",
      "1    75.843209\n",
      "0    16.134913\n",
      "2     7.657247\n",
      "3     0.364631\n",
      "Name: proportion, dtype: float64\n"
     ]
    }
   ],
   "source": [
    "# النسبة المئوية لكل عمر في Cluster 0\n",
    "age_dist_cluster0 = cluster0_data[\"Education\"].value_counts(normalize=True) * 100\n",
    "print(age_dist_cluster0)  \n"
   ]
  },
  {
   "cell_type": "code",
   "execution_count": 25,
   "id": "6183ba90",
   "metadata": {},
   "outputs": [
    {
     "data": {
      "text/plain": [
       "Settlement size\n",
       "0    756\n",
       "1    203\n",
       "2    138\n",
       "Name: count, dtype: int64"
      ]
     },
     "execution_count": 25,
     "metadata": {},
     "output_type": "execute_result"
    }
   ],
   "source": [
    "cluster0_data[\"Settlement size\"].value_counts()"
   ]
  },
  {
   "cell_type": "code",
   "execution_count": 26,
   "id": "8dc759ef",
   "metadata": {},
   "outputs": [
    {
     "name": "stdout",
     "output_type": "stream",
     "text": [
      "Settlement size\n",
      "0    68.915223\n",
      "1    18.505014\n",
      "2    12.579763\n",
      "Name: proportion, dtype: float64\n"
     ]
    }
   ],
   "source": [
    "# النسبة المئوية لكل عمر في Cluster 0\n",
    "age_dist_cluster0 = cluster0_data[\"Settlement size\"].value_counts(normalize=True) * 100\n",
    "print(age_dist_cluster0)  \n"
   ]
  },
  {
   "cell_type": "code",
   "execution_count": 27,
   "id": "a079a9cc",
   "metadata": {},
   "outputs": [
    {
     "name": "stdout",
     "output_type": "stream",
     "text": [
      "Generation\n",
      "Gen Z          45.031905\n",
      "Millennials    43.299909\n",
      "Gen X          10.027347\n",
      "Boomers         1.640839\n",
      "Name: proportion, dtype: float64\n"
     ]
    }
   ],
   "source": [
    "# النسبة المئوية لكل عمر في Cluster 0\n",
    "age_dist_cluster0 = cluster0_data[\"Generation\"].value_counts(normalize=True) * 100\n",
    "print(age_dist_cluster0)  \n"
   ]
  },
  {
   "cell_type": "code",
   "execution_count": 28,
   "id": "42ac3887",
   "metadata": {},
   "outputs": [
    {
     "data": {
      "text/html": [
       "<div>\n",
       "<style scoped>\n",
       "    .dataframe tbody tr th:only-of-type {\n",
       "        vertical-align: middle;\n",
       "    }\n",
       "\n",
       "    .dataframe tbody tr th {\n",
       "        vertical-align: top;\n",
       "    }\n",
       "\n",
       "    .dataframe thead th {\n",
       "        text-align: right;\n",
       "    }\n",
       "</style>\n",
       "<table border=\"1\" class=\"dataframe\">\n",
       "  <thead>\n",
       "    <tr style=\"text-align: right;\">\n",
       "      <th></th>\n",
       "      <th>mean</th>\n",
       "      <th>median</th>\n",
       "      <th>std</th>\n",
       "      <th>min</th>\n",
       "      <th>max</th>\n",
       "    </tr>\n",
       "    <tr>\n",
       "      <th>Cluster</th>\n",
       "      <th></th>\n",
       "      <th></th>\n",
       "      <th></th>\n",
       "      <th></th>\n",
       "      <th></th>\n",
       "    </tr>\n",
       "  </thead>\n",
       "  <tbody>\n",
       "    <tr>\n",
       "      <th>0</th>\n",
       "      <td>95485.586144</td>\n",
       "      <td>99737.0</td>\n",
       "      <td>17585.331120</td>\n",
       "      <td>35832</td>\n",
       "      <td>119684</td>\n",
       "    </tr>\n",
       "    <tr>\n",
       "      <th>1</th>\n",
       "      <td>141970.047919</td>\n",
       "      <td>137689.0</td>\n",
       "      <td>17243.978027</td>\n",
       "      <td>119439</td>\n",
       "      <td>184753</td>\n",
       "    </tr>\n",
       "    <tr>\n",
       "      <th>2</th>\n",
       "      <td>223444.563636</td>\n",
       "      <td>214364.0</td>\n",
       "      <td>31968.430187</td>\n",
       "      <td>187549</td>\n",
       "      <td>309364</td>\n",
       "    </tr>\n",
       "  </tbody>\n",
       "</table>\n",
       "</div>"
      ],
      "text/plain": [
       "                  mean    median           std     min     max\n",
       "Cluster                                                       \n",
       "0         95485.586144   99737.0  17585.331120   35832  119684\n",
       "1        141970.047919  137689.0  17243.978027  119439  184753\n",
       "2        223444.563636  214364.0  31968.430187  187549  309364"
      ]
     },
     "execution_count": 28,
     "metadata": {},
     "output_type": "execute_result"
    }
   ],
   "source": [
    "seg_data.groupby(\"Cluster\")[\"Income\"].agg([\"mean\",\"median\",\"std\",\"min\",\"max\"])\n"
   ]
  },
  {
   "cell_type": "code",
   "execution_count": 29,
   "id": "8a88ffd0",
   "metadata": {},
   "outputs": [
    {
     "data": {
      "text/plain": [
       "Occupation\n",
       "1    556\n",
       "2    157\n",
       "0     80\n",
       "Name: count, dtype: int64"
      ]
     },
     "execution_count": 29,
     "metadata": {},
     "output_type": "execute_result"
    }
   ],
   "source": [
    "cluster1_data[\"Occupation\"].value_counts()"
   ]
  },
  {
   "cell_type": "code",
   "execution_count": 30,
   "id": "037697aa",
   "metadata": {},
   "outputs": [
    {
     "name": "stdout",
     "output_type": "stream",
     "text": [
      "Occupation\n",
      "1    70.113493\n",
      "2    19.798235\n",
      "0    10.088272\n",
      "Name: proportion, dtype: float64\n"
     ]
    }
   ],
   "source": [
    "# النسبة المئوية لكل عمر في Cluster 0\n",
    "age_dist_cluster0 = cluster1_data[\"Occupation\"].value_counts(normalize=True) * 100\n",
    "print(age_dist_cluster0)  \n"
   ]
  },
  {
   "cell_type": "code",
   "execution_count": 31,
   "id": "377fd32d",
   "metadata": {},
   "outputs": [
    {
     "name": "stdout",
     "output_type": "stream",
     "text": [
      "Generation\n",
      "Millennials    49.180328\n",
      "Gen X          21.437579\n",
      "Gen Z          20.176545\n",
      "Boomers         9.205549\n",
      "Name: proportion, dtype: float64\n"
     ]
    }
   ],
   "source": [
    "# النسبة المئوية لكل عمر في Cluster 0\n",
    "age_dist_cluster0 = cluster1_data[\"Generation\"].value_counts(normalize=True) * 100\n",
    "print(age_dist_cluster0)  \n"
   ]
  },
  {
   "cell_type": "code",
   "execution_count": 32,
   "id": "fe048606",
   "metadata": {},
   "outputs": [
    {
     "name": "stdout",
     "output_type": "stream",
     "text": [
      "Education\n",
      "1    64.312736\n",
      "2    20.302648\n",
      "0    11.853720\n",
      "3     3.530895\n",
      "Name: proportion, dtype: float64\n"
     ]
    }
   ],
   "source": [
    "# النسبة المئوية لكل عمر في Cluster 0\n",
    "age_dist_cluster0 = cluster1_data[\"Education\"].value_counts(normalize=True) * 100\n",
    "print(age_dist_cluster0)  \n"
   ]
  },
  {
   "cell_type": "code",
   "execution_count": 33,
   "id": "c9ca3ac3",
   "metadata": {},
   "outputs": [
    {
     "name": "stdout",
     "output_type": "stream",
     "text": [
      "Marital status\n",
      "0    53.972257\n",
      "1    46.027743\n",
      "Name: proportion, dtype: float64\n"
     ]
    }
   ],
   "source": [
    "# النسبة المئوية لكل عمر في Cluster 0\n",
    "age_dist_cluster0 = cluster1_data[\"Marital status\"].value_counts(normalize=True) * 100\n",
    "print(age_dist_cluster0)  \n"
   ]
  },
  {
   "cell_type": "code",
   "execution_count": 34,
   "id": "f2112bb5",
   "metadata": {},
   "outputs": [
    {
     "name": "stdout",
     "output_type": "stream",
     "text": [
      "Sex\n",
      "0    63.934426\n",
      "1    36.065574\n",
      "Name: proportion, dtype: float64\n"
     ]
    }
   ],
   "source": [
    "# النسبة المئوية لكل عمر في Cluster 0\n",
    "age_dist_cluster0 = cluster1_data[\"Sex\"].value_counts(normalize=True) * 100\n",
    "print(age_dist_cluster0)  \n"
   ]
  },
  {
   "cell_type": "code",
   "execution_count": 35,
   "id": "6fa0bfbe",
   "metadata": {},
   "outputs": [
    {
     "name": "stdout",
     "output_type": "stream",
     "text": [
      "Settlement size\n",
      "1    37.452711\n",
      "2    34.174023\n",
      "0    28.373266\n",
      "Name: proportion, dtype: float64\n"
     ]
    }
   ],
   "source": [
    "# النسبة المئوية لكل عمر في Cluster 0\n",
    "age_dist_cluster0 = cluster1_data[\"Settlement size\"].value_counts(normalize=True) * 100\n",
    "print(age_dist_cluster0)  \n"
   ]
  },
  {
   "cell_type": "code",
   "execution_count": 36,
   "id": "1bbcb018",
   "metadata": {},
   "outputs": [
    {
     "name": "stdout",
     "output_type": "stream",
     "text": [
      "Occupation\n",
      "2    74.545455\n",
      "1    25.454545\n",
      "Name: proportion, dtype: float64\n"
     ]
    }
   ],
   "source": [
    "# النسبة المئوية لكل عمر في Cluster 0\n",
    "age_dist_cluster2 = cluster2_data[\"Occupation\"].value_counts(normalize=True) * 100\n",
    "print(age_dist_cluster2)  \n"
   ]
  },
  {
   "cell_type": "code",
   "execution_count": 37,
   "id": "f793f7f5",
   "metadata": {},
   "outputs": [
    {
     "name": "stdout",
     "output_type": "stream",
     "text": [
      "Generation\n",
      "Millennials    40.909091\n",
      "Gen X          30.909091\n",
      "Boomers        14.545455\n",
      "Gen Z          13.636364\n",
      "Name: proportion, dtype: float64\n"
     ]
    }
   ],
   "source": [
    "# النسبة المئوية لكل عمر في Cluster 0\n",
    "age_dist_cluster2 = cluster2_data[\"Generation\"].value_counts(normalize=True) * 100\n",
    "print(age_dist_cluster2)  \n"
   ]
  },
  {
   "cell_type": "code",
   "execution_count": 38,
   "id": "1340b9af",
   "metadata": {},
   "outputs": [
    {
     "name": "stdout",
     "output_type": "stream",
     "text": [
      "Sex\n",
      "0    70.909091\n",
      "1    29.090909\n",
      "Name: proportion, dtype: float64\n"
     ]
    }
   ],
   "source": [
    "# النسبة المئوية لكل عمر في Cluster 0\n",
    "age_dist_cluster2 = cluster2_data[\"Sex\"].value_counts(normalize=True) * 100\n",
    "print(age_dist_cluster2)  \n"
   ]
  },
  {
   "cell_type": "code",
   "execution_count": 39,
   "id": "f3a6a87e",
   "metadata": {},
   "outputs": [
    {
     "name": "stdout",
     "output_type": "stream",
     "text": [
      "Education\n",
      "2    41.818182\n",
      "1    40.000000\n",
      "0    14.545455\n",
      "3     3.636364\n",
      "Name: proportion, dtype: float64\n"
     ]
    }
   ],
   "source": [
    "# النسبة المئوية لكل عمر في Cluster 0\n",
    "age_dist_cluster2 = cluster2_data[\"Education\"].value_counts(normalize=True) * 100\n",
    "print(age_dist_cluster2)  \n"
   ]
  },
  {
   "cell_type": "code",
   "execution_count": 40,
   "id": "53ea747d",
   "metadata": {},
   "outputs": [
    {
     "name": "stdout",
     "output_type": "stream",
     "text": [
      "Marital status\n",
      "0    60.0\n",
      "1    40.0\n",
      "Name: proportion, dtype: float64\n"
     ]
    }
   ],
   "source": [
    "# النسبة المئوية لكل عمر في Cluster 0\n",
    "age_dist_cluster2 = cluster2_data[\"Marital status\"].value_counts(normalize=True) * 100\n",
    "print(age_dist_cluster2)  \n"
   ]
  },
  {
   "cell_type": "code",
   "execution_count": 41,
   "id": "9bf8ba44",
   "metadata": {},
   "outputs": [
    {
     "name": "stdout",
     "output_type": "stream",
     "text": [
      "Settlement size\n",
      "2    52.727273\n",
      "1    40.000000\n",
      "0     7.272727\n",
      "Name: proportion, dtype: float64\n"
     ]
    }
   ],
   "source": [
    "# النسبة المئوية لكل عمر في Cluster 0\n",
    "age_dist_cluster2 = cluster2_data[\"Settlement size\"].value_counts(normalize=True) * 100\n",
    "print(age_dist_cluster2)  \n"
   ]
  },
  {
   "cell_type": "markdown",
   "id": "0a4afd11",
   "metadata": {},
   "source": [
    " Cluster Analysis – Percentage Breakdown\n",
    " Cluster Sizes\n",
    "\n",
    "Cluster 0: 1097 customers (52.8%)\n",
    "\n",
    "Cluster 1: 793 customers (38.1%)\n",
    "\n",
    "Cluster 2: 110 customers (5.1%)\n",
    "\n",
    " Sex Distribution\n",
    "\n",
    "Cluster 0: Male 45.7%, Female 54.3%\n",
    "\n",
    "Cluster 1: Male 63.9%, Female 36.1%\n",
    "\n",
    "Cluster 2: Male 70.9%, Female 29.1%\n",
    "\n",
    " Marital Status\n",
    "\n",
    "Cluster 0: Married 53.2%, Single 46.8%\n",
    "\n",
    "Cluster 1: Single 53.9%, Married 46.0%\n",
    "\n",
    "Cluster 2: Single 60.0%, Married 40.0%\n",
    "\n",
    " Education\n",
    "\n",
    "Cluster 0: Level 1 → 75.8%, Level 0 → 16.1%, Level 2 → 7.7%, Level 3 → 0.4%\n",
    "\n",
    "Cluster 1: Level 1 → 64.3%, Level 2 → 20.3%, Level 0 → 11.9%, Level 3 → 3.5%\n",
    "\n",
    "Cluster 2: Level 2 → 41.8%, Level 1 → 40.0%, Level 0 → 14.5%, Level 3 → 3.6%\n",
    "\n",
    " Occupation\n",
    "\n",
    "Cluster 0: Type 0 → 50.4%, Type 1 → 48.2%, Type 2 → 1.4%\n",
    "\n",
    "Cluster 1: Type 1 → 70.1%, Type 2 → 19.8%, Type 0 → 10.1%\n",
    "\n",
    "Cluster 2: Type 2 → 74.5%, Type 1 → 25.5%\n",
    "\n",
    " Settlement Size\n",
    "\n",
    "Cluster 0: Small (0) → 68.9%, Medium (1) → 18.5%, Large (2) → 12.6%\n",
    "\n",
    "Cluster 1: Medium (1) → 37.5%, Large (2) → 34.2%, Small (0) → 28.4%\n",
    "\n",
    "Cluster 2: Large (2) → 52.7%, Medium (1) → 40.0%, Small (0) → 7.3%\n",
    "\n",
    " Income Profile\n",
    "\n",
    "Cluster 0: Avg Income ≈ 95,486\n",
    "\n",
    "Cluster 1: Avg Income ≈ 141,970\n",
    "\n",
    "Cluster 2: Avg Income ≈ 223,445\n",
    "\n",
    " Generation Breakdown\n",
    "\n",
    "Cluster 0: Gen Z → 45.0%, Millennials → 43.3%, Gen X → 10.0%, Boomers → 1.6%\n",
    "\n",
    "Cluster 1: Millennials → 49.2%, Gen X → 21.4%, Gen Z → 20.2%, Boomers → 9.2%\n",
    "\n",
    "Cluster 2: Millennials → 40.9%, Gen X → 30.9%, Boomers → 14.5%, Gen Z → 13.6%\n",
    "\n",
    " Insights\n",
    "\n",
    "Cluster 0 → Younger, balanced male/female, mostly Level 1 education, medium income, mainly small towns.\n",
    "\n",
    "Cluster 1 → Mid-age, more males, higher education mix, higher income, mix of medium & large cities.\n",
    "\n",
    "Cluster 2 → Older, predominantly male, higher education, highest income, mostly large cities."
   ]
  }
 ],
 "metadata": {
  "kernelspec": {
   "display_name": "venv",
   "language": "python",
   "name": "python3"
  },
  "language_info": {
   "codemirror_mode": {
    "name": "ipython",
    "version": 3
   },
   "file_extension": ".py",
   "mimetype": "text/x-python",
   "name": "python",
   "nbconvert_exporter": "python",
   "pygments_lexer": "ipython3",
   "version": "3.9.5"
  }
 },
 "nbformat": 4,
 "nbformat_minor": 5
}
